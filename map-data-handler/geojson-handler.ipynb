{
 "cells": [
  {
   "cell_type": "code",
   "execution_count": 1,
   "source": [
    "import geopandas as gpd\n",
    "import pandas as pd\n",
    "import folium\n",
    "import json\n",
    "import re"
   ],
   "outputs": [],
   "metadata": {}
  },
  {
   "cell_type": "code",
   "execution_count": 13,
   "source": [
    "filename_vl = '../data/gr_list_vlaanderen.geojson'\n",
    "filename_wa = '../data/gr_list_wallonie.geojson'\n",
    "\n",
    "df_vl = gpd.read_file(filename_vl)\n",
    "df_wa = gpd.read_file(filename_wa)"
   ],
   "outputs": [],
   "metadata": {}
  },
  {
   "cell_type": "code",
   "execution_count": 14,
   "source": [
    "gr_12_vl = df_vl.loc[df_vl['NAME'].str.contains('GR 12 Amsterdam - Parijs')]"
   ],
   "outputs": [],
   "metadata": {}
  },
  {
   "cell_type": "code",
   "execution_count": 15,
   "source": [
    "gr_12_wa = df_wa.loc[df_wa['NAME'].str.contains('GR 12 Amsterdam - Parijs')]"
   ],
   "outputs": [],
   "metadata": {}
  },
  {
   "cell_type": "code",
   "execution_count": 16,
   "source": [
    "gr_12_be = gr_12_vl.append(gr_12_wa)"
   ],
   "outputs": [],
   "metadata": {}
  },
  {
   "cell_type": "code",
   "execution_count": 17,
   "source": [
    "gr_12_be"
   ],
   "outputs": [
    {
     "output_type": "execute_result",
     "data": {
      "text/plain": [
       "         ID                                  NAME  \\\n",
       "23  4796603              GR 12 Amsterdam - Parijs   \n",
       "18  7032282  GR 12 Amsterdam - Parijs | WalloniΓ«   \n",
       "\n",
       "                                           DESCRIPTIO LANGUAGE  LENGTH  \\\n",
       "23  <p><strong>Hoofdroute: 200 km | Variante: 59 k...       nl  200388   \n",
       "18  <p><strong>Hoofdroute: 302 km</strong></p>\\n\\n...       nl  302319   \n",
       "\n",
       "    OWNER_ID  TYPE_ID    TYPE_NAME FLAG  SCORE  \\\n",
       "23     80833       10  Hikingroute   be   0.72   \n",
       "18     80833       10  Hikingroute   be   0.60   \n",
       "\n",
       "                          EDITED_DAT  \\\n",
       "23  2021-03-11T07:28:26.187408+00:00   \n",
       "18  2020-05-29T08:36:45.741547+00:00   \n",
       "\n",
       "                                             geometry  \n",
       "23  LINESTRING (4.32647 51.48759, 4.32618 51.48735...  \n",
       "18  LINESTRING (4.34813 50.90152, 4.34815 50.90113...  "
      ],
      "text/html": [
       "<div>\n",
       "<style scoped>\n",
       "    .dataframe tbody tr th:only-of-type {\n",
       "        vertical-align: middle;\n",
       "    }\n",
       "\n",
       "    .dataframe tbody tr th {\n",
       "        vertical-align: top;\n",
       "    }\n",
       "\n",
       "    .dataframe thead th {\n",
       "        text-align: right;\n",
       "    }\n",
       "</style>\n",
       "<table border=\"1\" class=\"dataframe\">\n",
       "  <thead>\n",
       "    <tr style=\"text-align: right;\">\n",
       "      <th></th>\n",
       "      <th>ID</th>\n",
       "      <th>NAME</th>\n",
       "      <th>DESCRIPTIO</th>\n",
       "      <th>LANGUAGE</th>\n",
       "      <th>LENGTH</th>\n",
       "      <th>OWNER_ID</th>\n",
       "      <th>TYPE_ID</th>\n",
       "      <th>TYPE_NAME</th>\n",
       "      <th>FLAG</th>\n",
       "      <th>SCORE</th>\n",
       "      <th>EDITED_DAT</th>\n",
       "      <th>geometry</th>\n",
       "    </tr>\n",
       "  </thead>\n",
       "  <tbody>\n",
       "    <tr>\n",
       "      <th>23</th>\n",
       "      <td>4796603</td>\n",
       "      <td>GR 12 Amsterdam - Parijs</td>\n",
       "      <td>&lt;p&gt;&lt;strong&gt;Hoofdroute: 200 km | Variante: 59 k...</td>\n",
       "      <td>nl</td>\n",
       "      <td>200388</td>\n",
       "      <td>80833</td>\n",
       "      <td>10</td>\n",
       "      <td>Hikingroute</td>\n",
       "      <td>be</td>\n",
       "      <td>0.72</td>\n",
       "      <td>2021-03-11T07:28:26.187408+00:00</td>\n",
       "      <td>LINESTRING (4.32647 51.48759, 4.32618 51.48735...</td>\n",
       "    </tr>\n",
       "    <tr>\n",
       "      <th>18</th>\n",
       "      <td>7032282</td>\n",
       "      <td>GR 12 Amsterdam - Parijs | WalloniΓ«</td>\n",
       "      <td>&lt;p&gt;&lt;strong&gt;Hoofdroute: 302 km&lt;/strong&gt;&lt;/p&gt;\\n\\n...</td>\n",
       "      <td>nl</td>\n",
       "      <td>302319</td>\n",
       "      <td>80833</td>\n",
       "      <td>10</td>\n",
       "      <td>Hikingroute</td>\n",
       "      <td>be</td>\n",
       "      <td>0.60</td>\n",
       "      <td>2020-05-29T08:36:45.741547+00:00</td>\n",
       "      <td>LINESTRING (4.34813 50.90152, 4.34815 50.90113...</td>\n",
       "    </tr>\n",
       "  </tbody>\n",
       "</table>\n",
       "</div>"
      ]
     },
     "metadata": {},
     "execution_count": 17
    }
   ],
   "metadata": {}
  },
  {
   "cell_type": "code",
   "execution_count": 18,
   "source": [
    "#gr_12_be.to_file(\"../data/gr_12_belgie.geojson\", driver='GeoJSON')"
   ],
   "outputs": [],
   "metadata": {}
  },
  {
   "cell_type": "code",
   "execution_count": 19,
   "source": [
    "from os import walk\n",
    "mypath = '../data/floris_v_etappes'\n",
    "\n",
    "files=[]\n",
    "file_names = []\n",
    "\n",
    "for (dirpath, dirnames, filenames) in walk(mypath):\n",
    "    files.extend(filenames)\n",
    "    break"
   ],
   "outputs": [],
   "metadata": {}
  },
  {
   "cell_type": "code",
   "execution_count": 20,
   "source": [
    "for f in files:\n",
    "    file_names.append(f)"
   ],
   "outputs": [],
   "metadata": {}
  },
  {
   "cell_type": "code",
   "execution_count": 23,
   "source": [
    "list_of_dfs = []\n",
    "for file in file_names:\n",
    "    list_of_dfs.append(gpd.read_file('../data/floris_v_etappes/'+file))"
   ],
   "outputs": [],
   "metadata": {}
  },
  {
   "cell_type": "code",
   "execution_count": 24,
   "source": [
    "df = pd.concat(list_of_dfs)"
   ],
   "outputs": [],
   "metadata": {}
  },
  {
   "cell_type": "code",
   "execution_count": 25,
   "source": [
    "df"
   ],
   "outputs": [
    {
     "output_type": "execute_result",
     "data": {
      "text/plain": [
       "                     name                                           geometry\n",
       "0  Floris V-pad etappe 13  MULTILINESTRING ((4.31461 51.58588, 4.31449 51...\n",
       "0  Floris V-pad etappe 04  MULTILINESTRING ((4.97871 52.19094, 4.97869 52...\n",
       "0  Floris V-pad etappe 11  MULTILINESTRING ((4.43725 51.72638, 4.43727 51...\n",
       "0  Floris V-pad etappe 12  MULTILINESTRING ((4.37080 51.63877, 4.36942 51...\n",
       "0  Floris V-pad etappe 01  MULTILINESTRING ((4.89290 52.37272, 4.89293 52...\n",
       "0  Floris V-pad etappe 02  MULTILINESTRING ((5.03979 52.30830, 5.03983 52...\n",
       "0  Floris V-pad etappe 08  MULTILINESTRING ((4.66847 51.88285, 4.66845 51...\n",
       "0  Floris V-pad etappe 09  MULTILINESTRING ((4.73707 51.80422, 4.73710 51...\n",
       "0  Floris V-pad etappe 07  MULTILINESTRING ((4.85422 51.94298, 4.85414 51...\n",
       "0  Floris V-pad etappe 03  MULTILINESTRING ((5.10942 52.24185, 5.10941 52...\n",
       "0  Floris V-pad etappe 10  MULTILINESTRING ((4.63103 51.77272, 4.63064 51...\n",
       "0  Floris V-pad etappe 06  MULTILINESTRING ((4.87125 52.02167, 4.87122 52...\n",
       "0  Floris V-pad etappe 05  MULTILINESTRING ((4.89127 52.08699, 4.89123 52..."
      ],
      "text/html": [
       "<div>\n",
       "<style scoped>\n",
       "    .dataframe tbody tr th:only-of-type {\n",
       "        vertical-align: middle;\n",
       "    }\n",
       "\n",
       "    .dataframe tbody tr th {\n",
       "        vertical-align: top;\n",
       "    }\n",
       "\n",
       "    .dataframe thead th {\n",
       "        text-align: right;\n",
       "    }\n",
       "</style>\n",
       "<table border=\"1\" class=\"dataframe\">\n",
       "  <thead>\n",
       "    <tr style=\"text-align: right;\">\n",
       "      <th></th>\n",
       "      <th>name</th>\n",
       "      <th>geometry</th>\n",
       "    </tr>\n",
       "  </thead>\n",
       "  <tbody>\n",
       "    <tr>\n",
       "      <th>0</th>\n",
       "      <td>Floris V-pad etappe 13</td>\n",
       "      <td>MULTILINESTRING ((4.31461 51.58588, 4.31449 51...</td>\n",
       "    </tr>\n",
       "    <tr>\n",
       "      <th>0</th>\n",
       "      <td>Floris V-pad etappe 04</td>\n",
       "      <td>MULTILINESTRING ((4.97871 52.19094, 4.97869 52...</td>\n",
       "    </tr>\n",
       "    <tr>\n",
       "      <th>0</th>\n",
       "      <td>Floris V-pad etappe 11</td>\n",
       "      <td>MULTILINESTRING ((4.43725 51.72638, 4.43727 51...</td>\n",
       "    </tr>\n",
       "    <tr>\n",
       "      <th>0</th>\n",
       "      <td>Floris V-pad etappe 12</td>\n",
       "      <td>MULTILINESTRING ((4.37080 51.63877, 4.36942 51...</td>\n",
       "    </tr>\n",
       "    <tr>\n",
       "      <th>0</th>\n",
       "      <td>Floris V-pad etappe 01</td>\n",
       "      <td>MULTILINESTRING ((4.89290 52.37272, 4.89293 52...</td>\n",
       "    </tr>\n",
       "    <tr>\n",
       "      <th>0</th>\n",
       "      <td>Floris V-pad etappe 02</td>\n",
       "      <td>MULTILINESTRING ((5.03979 52.30830, 5.03983 52...</td>\n",
       "    </tr>\n",
       "    <tr>\n",
       "      <th>0</th>\n",
       "      <td>Floris V-pad etappe 08</td>\n",
       "      <td>MULTILINESTRING ((4.66847 51.88285, 4.66845 51...</td>\n",
       "    </tr>\n",
       "    <tr>\n",
       "      <th>0</th>\n",
       "      <td>Floris V-pad etappe 09</td>\n",
       "      <td>MULTILINESTRING ((4.73707 51.80422, 4.73710 51...</td>\n",
       "    </tr>\n",
       "    <tr>\n",
       "      <th>0</th>\n",
       "      <td>Floris V-pad etappe 07</td>\n",
       "      <td>MULTILINESTRING ((4.85422 51.94298, 4.85414 51...</td>\n",
       "    </tr>\n",
       "    <tr>\n",
       "      <th>0</th>\n",
       "      <td>Floris V-pad etappe 03</td>\n",
       "      <td>MULTILINESTRING ((5.10942 52.24185, 5.10941 52...</td>\n",
       "    </tr>\n",
       "    <tr>\n",
       "      <th>0</th>\n",
       "      <td>Floris V-pad etappe 10</td>\n",
       "      <td>MULTILINESTRING ((4.63103 51.77272, 4.63064 51...</td>\n",
       "    </tr>\n",
       "    <tr>\n",
       "      <th>0</th>\n",
       "      <td>Floris V-pad etappe 06</td>\n",
       "      <td>MULTILINESTRING ((4.87125 52.02167, 4.87122 52...</td>\n",
       "    </tr>\n",
       "    <tr>\n",
       "      <th>0</th>\n",
       "      <td>Floris V-pad etappe 05</td>\n",
       "      <td>MULTILINESTRING ((4.89127 52.08699, 4.89123 52...</td>\n",
       "    </tr>\n",
       "  </tbody>\n",
       "</table>\n",
       "</div>"
      ]
     },
     "metadata": {},
     "execution_count": 25
    }
   ],
   "metadata": {}
  },
  {
   "cell_type": "code",
   "execution_count": null,
   "source": [
    "df.to_file(\"../data/gr_12_nederland.geojson\", driver='GeoJSON')"
   ],
   "outputs": [],
   "metadata": {}
  },
  {
   "cell_type": "code",
   "execution_count": 3,
   "source": [
    "filename_be = '../data/gr_12_belgie.geojson'\n",
    "filename_nl = '../data/gr_12_nederland.geojson'\n",
    "\n",
    "df_be = gpd.read_file(filename_be)\n",
    "df_nl = gpd.read_file(filename_nl)\n",
    "\n",
    "df = pd.concat([df_be,df_nl])\n",
    "df.to_file(\"../data/gr_12.geojson\", driver='GeoJSON')"
   ],
   "outputs": [],
   "metadata": {}
  },
  {
   "cell_type": "code",
   "execution_count": null,
   "source": [],
   "outputs": [],
   "metadata": {}
  },
  {
   "cell_type": "code",
   "execution_count": null,
   "source": [],
   "outputs": [],
   "metadata": {}
  },
  {
   "cell_type": "code",
   "execution_count": null,
   "source": [],
   "outputs": [],
   "metadata": {}
  }
 ],
 "metadata": {
  "orig_nbformat": 4,
  "language_info": {
   "name": "python",
   "version": "3.9.5",
   "mimetype": "text/x-python",
   "codemirror_mode": {
    "name": "ipython",
    "version": 3
   },
   "pygments_lexer": "ipython3",
   "nbconvert_exporter": "python",
   "file_extension": ".py"
  },
  "kernelspec": {
   "name": "python3",
   "display_name": "Python 3.9.5 64-bit"
  },
  "interpreter": {
   "hash": "ac2eaa0ea0ebeafcc7822e65e46aa9d4f966f30b695406963e145ea4a91cd4fc"
  }
 },
 "nbformat": 4,
 "nbformat_minor": 2
}